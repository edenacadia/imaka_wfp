{
 "cells": [
  {
   "cell_type": "markdown",
   "metadata": {},
   "source": [
    "# Simulation Graphing\n",
    "Looking at the Simulation files and graph with different levels"
   ]
  },
  {
   "cell_type": "code",
   "execution_count": 1,
   "metadata": {},
   "outputs": [],
   "source": [
    "# imports\n",
    "import numpy as np\n",
    "import pandas as pd\n",
    "import numpy.ma as ma\n",
    "import importlib\n",
    "import matplotlib\n",
    "from astropy.stats import sigma_clipped_stats\n",
    "#personal\n",
    "from pipeline.est_pipeline import *\n",
    "from pipeline.code.Correlator import *\n",
    "import pipeline.code.Estimator as es\n",
    "from pipeline.code.file_reader import *\n",
    "import pipeline.code.data_table as d_t\n",
    "from pipeline.code.corr_plots import *\n",
    "import pipeline.code.graph_code as gc"
   ]
  },
  {
   "cell_type": "code",
   "execution_count": 2,
   "metadata": {},
   "outputs": [],
   "source": [
    "# File sources\n",
    "\n",
    "file_path = \"/home/emcewen/\"\n",
    "file = \"out_sim/20201222/fits/20201222_aocb_2020121_221213o_tmax200_stt.fits\"\n",
    "out_fits = file_path + file"
   ]
  },
  {
   "cell_type": "code",
   "execution_count": 4,
   "metadata": {},
   "outputs": [
    {
     "name": "stderr",
     "output_type": "stream",
     "text": [
      "WARNING:root:WARNING! Out dir creation error \n",
      "WARNING:root:No valid data\n",
      "WARNING:root:No valid data\n"
     ]
    }
   ],
   "source": [
    "data = Correlator(\"\", \"\", \"\", f_file=out_fits)"
   ]
  },
  {
   "cell_type": "code",
   "execution_count": null,
   "metadata": {},
   "outputs": [],
   "source": [
    "def cor_animate_all(data, dt_max = 30, med_sub=False, avg_sub=False, avg_len=10):\n",
    "        # check to see if data is valid\n",
    "        if data.data_valid and not data.ccor:\n",
    "            logging.warning(\"Cross corr not available, generating\")\n",
    "            data.ccor_gen()\n",
    "        elif not data.data_valid:\n",
    "            logging.error(\"Data not available\") \n",
    "            return None\n",
    "        # Retrieve data for graphing\n",
    "        if dt_max > data.tmax: dt_max = data.tmax\n",
    "        data_cx, data_cy = data.data_get_cc_all(med_sub, avg_sub, avg_len)\n",
    "        # Plot title and file\n",
    "        title = data.plot_title_gen(\" Cross Corr, all WFS\", med_sub, avg_sub, avg_len)\n",
    "        out_file = data.plot_file_gen(\"ccor_all_gif\", \"_ccor_all\", \"gif\", med_sub, avg_sub, avg_len) \n",
    "        # animate all correlations \n",
    "        try:\n",
    "            logging.debug(\"Graphing: cor_animate_all\")\n",
    "            gif_ccor_mat((data_cx+data_cy), dt_max, title, out_file)\n",
    "            plt.close(\"all\")\n",
    "            return out_file\n",
    "        except Exception as e:\n",
    "            logging.error(\"Error in gif_ccor_mat: %s\"% e)\n",
    "            return False"
   ]
  }
 ],
 "metadata": {
  "kernelspec": {
   "display_name": "Python 3",
   "language": "python",
   "name": "python3"
  },
  "language_info": {
   "codemirror_mode": {
    "name": "ipython",
    "version": 3
   },
   "file_extension": ".py",
   "mimetype": "text/x-python",
   "name": "python",
   "nbconvert_exporter": "python",
   "pygments_lexer": "ipython3",
   "version": "3.6.8"
  }
 },
 "nbformat": 4,
 "nbformat_minor": 4
}
