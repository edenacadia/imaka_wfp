{
 "cells": [
  {
   "cell_type": "markdown",
   "metadata": {},
   "source": [
    "# Testing wfp_pipeline.py \n",
    "The main interacting file\n",
    "Testing to make sure pipeline functions work, are are navigable"
   ]
  },
  {
   "cell_type": "code",
   "execution_count": 1,
   "metadata": {},
   "outputs": [],
   "source": [
    "import numpy as np\n",
    "import importlib\n",
    "import matplotlib.pyplot as plt\n",
    "from astropy.io import fits\n",
    "\n",
    "from pipeline.cor_pipeline import *\n",
    "from pipeline.wfp_pipeline import *"
   ]
  },
  {
   "cell_type": "code",
   "execution_count": 2,
   "metadata": {},
   "outputs": [],
   "source": [
    "data_path = \"/home/imaka/data/\"\n",
    "date = '20200121/'\n",
    "file = 'ao/aocb0009o.fits'\n",
    "\n",
    "data_f = data_path+date+file\n",
    "filename = os.path.basename(data_f)\n",
    "(name, ext) = os.path.splitext(filename)\n",
    "out_d = \"out/\" + date\n",
    "target_f= \"/home/emcewen/data/target_input/FLD2_USNOB_GS.txt\""
   ]
  },
  {
   "cell_type": "code",
   "execution_count": 3,
   "metadata": {},
   "outputs": [
    {
     "name": "stdout",
     "output_type": "stream",
     "text": [
      "{'data_path': '/home/imaka/data/', 'out_path': '/home/emcewen/out/', 'target_path': '/home/emcewen/data/target_input/', 'pipe_fn': 'all', 'parallel': 'True'}\n",
      "/home/emcewen/data/target_input/FLD2_USNOB_GS.txt\n",
      "/home/emcewen/data/target_input/20180525_USNOB_GS.txt\n",
      "/home/imaka/data/20180525/ao/\n",
      "['20180525_aocb0072o', '20180525_aocb0073o']\n"
     ]
    }
   ],
   "source": [
    "start_run(\"test_inputs/CONF_data.txt\", \"test_inputs/RUN_test3.txt\")"
   ]
  },
  {
   "cell_type": "markdown",
   "metadata": {},
   "source": [
    "## Quick sim test"
   ]
  },
  {
   "cell_type": "code",
   "execution_count": 3,
   "metadata": {},
   "outputs": [
    {
     "ename": "ModuleNotFoundError",
     "evalue": "No module named 'wp_pipeline'",
     "output_type": "error",
     "traceback": [
      "\u001b[0;31m---------------------------------------------------------------------------\u001b[0m",
      "\u001b[0;31mModuleNotFoundError\u001b[0m                       Traceback (most recent call last)",
      "\u001b[0;32m<ipython-input-3-2f91dd5e99de>\u001b[0m in \u001b[0;36m<module>\u001b[0;34m\u001b[0m\n\u001b[1;32m      1\u001b[0m \u001b[0;31m# Quick simulation run\"\u001b[0m\u001b[0;34m\u001b[0m\u001b[0;34m\u001b[0m\u001b[0;34m\u001b[0m\u001b[0m\n\u001b[0;32m----> 2\u001b[0;31m \u001b[0;32mimport\u001b[0m \u001b[0mwp_pipeline\u001b[0m \u001b[0;32mas\u001b[0m \u001b[0mwp\u001b[0m\u001b[0;34m\u001b[0m\u001b[0;34m\u001b[0m\u001b[0m\n\u001b[0m\u001b[1;32m      3\u001b[0m \u001b[0;32mfrom\u001b[0m \u001b[0mlog_ex\u001b[0m \u001b[0;32mimport\u001b[0m \u001b[0;34m*\u001b[0m\u001b[0;34m\u001b[0m\u001b[0;34m\u001b[0m\u001b[0m\n\u001b[1;32m      4\u001b[0m \u001b[0mconfig_root_logger\u001b[0m\u001b[0;34m(\u001b[0m\u001b[0;34m\"log/\"\u001b[0m\u001b[0;34m)\u001b[0m\u001b[0;34m\u001b[0m\u001b[0;34m\u001b[0m\u001b[0m\n\u001b[1;32m      5\u001b[0m \u001b[0;34m\u001b[0m\u001b[0m\n",
      "\u001b[0;31mModuleNotFoundError\u001b[0m: No module named 'wp_pipeline'"
     ]
    }
   ],
   "source": [
    "# Quick simulation run\"\n",
    "import wp_pipeline as wp\n",
    "from log_ex import * \n",
    "config_root_logger(\"log/\")\n",
    "\n",
    "data_f = \"/data/imaka/sim/20200824_211738/aocb/aocb_sim20200824-211738o.fits\"\n",
    "name = \"20200824_211738\"\n",
    "out_d = \"/home/emcewen/out/20200824/\"\n",
    "target_f = \"/home/emcewen/data/target_input/Beehive-E_USNOB_GS.txt\"\n",
    "\n",
    "wp.pipe_graph_iteration(0, name, data_f, out_d, target_f)"
   ]
  },
  {
   "cell_type": "code",
   "execution_count": null,
   "metadata": {},
   "outputs": [],
   "source": []
  },
  {
   "cell_type": "markdown",
   "metadata": {},
   "source": [
    "## Testing the datapipe "
   ]
  },
  {
   "cell_type": "code",
   "execution_count": 4,
   "metadata": {},
   "outputs": [
    {
     "name": "stderr",
     "output_type": "stream",
     "text": [
      "2020-07-13 12:46:09,150| MainThread | INFO | ======== aocb0009o ========\n",
      "2020-07-13 12:46:09,187| MainThread | INFO | ---> Pulling data from fits file\n",
      "2020-07-13 12:46:09,196| MainThread | INFO | Generating auto corr from ccor tmax = 21\n",
      "2020-07-13 12:46:09,227| MainThread | INFO | ====> Starting acor\n",
      "2020-07-13 12:46:09,227| MainThread | INFO | Auto corr already generated, tmax = 21\n",
      "2020-07-13 12:46:09,228| MainThread | INFO | == finished in 0.00057220458984375 s\n",
      "2020-07-13 12:46:09,229| MainThread | INFO | ====> Starting ccor\n",
      "2020-07-13 12:46:09,230| MainThread | INFO | Cross corr already generated, tmax = 21\n",
      "2020-07-13 12:46:09,231| MainThread | INFO | == finished in 0.0007584095001220703 s\n",
      "2020-07-13 12:46:09,231| MainThread | INFO | ====> writing fits\n",
      "2020-07-13 12:46:09,236| MainThread | INFO | ---> saving ccor\n",
      "2020-07-13 12:46:09,256| MainThread | INFO | == out/20200121/fits/aocb0009o_tmax21_stt.fits\n",
      "2020-07-13 12:46:09,257| MainThread | INFO | ====> Graphing\n",
      "2020-07-13 12:46:09,912| MainThread | INFO | out/20200121/plots/acor_png/aocb0009o_stt_acor_avg_14.png\n",
      "2020-07-13 12:46:12,772| MainThread | INFO | out/20200121/plots/acor_avg_gif/aocb0009o_stt_acor_avg_14.gif\n",
      "2020-07-13 12:46:13,853| MainThread | INFO | out/20200121/plots/ccor_all_png/aocb0009o_stt_ccor_all_14.png\n",
      "2020-07-13 12:46:21,341| MainThread | INFO | out/20200121/plots/ccor_all_gif/aocb0009o_stt_ccor_all_11.gif\n",
      "2020-07-13 12:46:21,343| MainThread | INFO | ===> complete\n"
     ]
    }
   ],
   "source": [
    "# test data proc\n",
    "data_proc_all(name, data_f, out_d, t_file=target_f, tmax=21, s_sub=True, tt_sub=True)"
   ]
  },
  {
   "cell_type": "code",
   "execution_count": 5,
   "metadata": {},
   "outputs": [
    {
     "data": {
      "text/plain": [
       "SIMPLE  =                    T / conforms to FITS standard                      \n",
       "BITPIX  =                    8 / array data type                                \n",
       "NAXIS   =                    0 / number of array dimensions                     \n",
       "EXTEND  =                    T                                                  \n",
       "DATANAME= '20200122_aocb0059o' / data file name                                 \n",
       "DATAFILE= '/home/imaka/data/20200122/ao/aocb0059o.fits' / data file path        \n",
       "OUTPATH = '/home/emcewen/out_test/20200122/' / out path                         \n",
       "DATETIME= '20200122-135817'    / YYYYMMDD-HHMMSS data was saved (UT)            \n",
       "OBSDATE = '20200122'           / YYYYMMDD data was saved (UT)                   \n",
       "TARGET  = 'Beehive-W'          / Target field name                              \n",
       "TFILE   = '/home/emcewen/data/target_input/Beehive-W_USNOB_GS.txt'              \n",
       "NWFS    =                    5 / WFS used in correction                         \n",
       "TMAX    =                   20 / Max time taken in temporal correlations        \n",
       "SSUB    =                    F / If static slope subtracted before comp         \n",
       "TTSUB   =                    F / If global tip/tilt subtracted before comp      \n",
       "CCOR    =                    T / Contains only auto correlations                "
      ]
     },
     "execution_count": 5,
     "metadata": {},
     "output_type": "execute_result"
    }
   ],
   "source": [
    "#test giving input\n",
    "f = \"/home/emcewen/out_test/20200122/fits/20200122_aocb0059o_tmax20_raw.fits\"\n",
    "\n",
    "hdr = fits.open(f)\n",
    "\n",
    "hdr[0].header"
   ]
  },
  {
   "cell_type": "markdown",
   "metadata": {},
   "source": [
    "## Testing Threading"
   ]
  },
  {
   "cell_type": "code",
   "execution_count": 3,
   "metadata": {},
   "outputs": [
    {
     "name": "stdout",
     "output_type": "stream",
     "text": [
      "Hello Dear Richard. How are you?\n",
      "Hey! Richard, your id is 1.\n",
      "Hello Dear Dinesh. How are you?Hey! Dinesh, your id is 2.\n",
      "\n",
      "Hello Dear Elrich. How are you?\n",
      "Hey! Elrich, your id is 3.\n",
      "Hello Dear Gilfoyle. How are you?\n",
      "Hey! Gilfoyle, your id is 4.\n",
      "Hello Dear Gevin. How are you?\n",
      "Hey! Gevin, your id is 5.\n",
      "Woaahh!! My work is finished..\n",
      "I took 2.504666805267334\n"
     ]
    }
   ],
   "source": [
    "# testing threading\n",
    "import time\n",
    "import threading\n",
    "\n",
    "# Python Threading Example for Beginners\n",
    "# First Method\n",
    "def greet_them(people,p):\n",
    "    for person in people:\n",
    "        print(\"Hello Dear \" + person + \". How are you?\")\n",
    "        time.sleep(0.5)\n",
    "\n",
    "\n",
    "# Second Method\n",
    "def assign_id(people, p):\n",
    "    i = 1\n",
    "    for person in people:\n",
    "        print(\"Hey! {}, your id is {}.\".format(person, i))\n",
    "        i += 1\n",
    "        time.sleep(0.5)\n",
    "\n",
    "\n",
    "people = ['Richard', 'Dinesh', 'Elrich', 'Gilfoyle', 'Gevin']\n",
    "people = ['Richard', 'Dinesh', 'Elrich', 'Gilfoyle', 'Gevin']\n",
    "\n",
    "t = time.time()\n",
    "\n",
    "#Created the Threads\n",
    "t1 = threading.Thread(target=greet_them, args=(people,people))\n",
    "t2 = threading.Thread(target=assign_id, args=(people,people))\n",
    "\n",
    "#Started the threads\n",
    "t1.start()\n",
    "t2.start()\n",
    "\n",
    "#Joined the threads\n",
    "t1.join()\n",
    "t2.join()\n",
    "\n",
    "print(\"Woaahh!! My work is finished..\")\n",
    "print(\"I took \" + str(time.time() - t))\n"
   ]
  },
  {
   "cell_type": "code",
   "execution_count": 3,
   "metadata": {},
   "outputs": [
    {
     "name": "stderr",
     "output_type": "stream",
     "text": [
      "2020-07-13 12:44:07,375| MainThread | INFO | Running threaded:\n",
      "2020-07-13 12:44:07,376| MainThread | INFO | MainThread\n",
      "2020-07-13 12:44:07,378| ThreadPoolExecutor-0_0| INFO | Thread starting\n",
      "2020-07-13 12:44:07,379| ThreadPoolExecutor-0_1| INFO | Thread starting\n",
      "2020-07-13 12:44:07,379| ThreadPoolExecutor-0_2| INFO | Thread starting\n",
      "2020-07-13 12:44:07,380| ThreadPoolExecutor-0_0| INFO | Cake: 0.0\n",
      "2020-07-13 12:44:07,381| ThreadPoolExecutor-0_1| INFO | Cake: 0.0\n",
      "2020-07-13 12:44:07,382| ThreadPoolExecutor-0_2| INFO | Cake: 0.0\n",
      "2020-07-13 12:44:09,385| ThreadPoolExecutor-0_0| INFO | Thread finishing\n",
      "2020-07-13 12:44:09,385| ThreadPoolExecutor-0_1| INFO | Thread finishing\n",
      "2020-07-13 12:44:09,386| ThreadPoolExecutor-0_2| INFO | Thread finishing\n",
      "2020-07-13 12:44:09,387| ThreadPoolExecutor-0_0| INFO | Thread starting\n",
      "2020-07-13 12:44:09,387| ThreadPoolExecutor-0_1| INFO | Thread starting\n",
      "2020-07-13 12:44:09,389| ThreadPoolExecutor-0_0| INFO | Cake: 0.0\n",
      "2020-07-13 12:44:09,389| ThreadPoolExecutor-0_1| INFO | Cake: 0.0\n",
      "2020-07-13 12:44:11,392| ThreadPoolExecutor-0_0| INFO | Thread finishing\n",
      "2020-07-13 12:44:11,393| ThreadPoolExecutor-0_1| INFO | Thread finishing\n",
      "2020-07-13 12:44:11,395| MainThread | INFO | Threaded time: 4.018516778945923\n"
     ]
    }
   ],
   "source": [
    "import logging\n",
    "import threading\n",
    "import time\n",
    "import concurrent.futures\n",
    "from log_ex import *\n",
    "\n",
    "### split method\n",
    "def nested_function(cake):\n",
    "    logging.info(\"Cake: %s\", cake)\n",
    "    time.sleep(2)\n",
    "\n",
    "def thread_function(name, cake):\n",
    "    #threading.current_thread().name = \"my thread\"\n",
    "    thread_log_handler = start_thread_logging()\n",
    "    logging.info(\"Thread starting\")\n",
    "    nested_function(cake)\n",
    "    logging.info(\"Thread finishing\")\n",
    "    stop_thread_logging(thread_log_handler)\n",
    "\n",
    "if __name__ == \"__main__\":\n",
    "    config_root_logger()\n",
    "    t_num = 3\n",
    "    people = ['Richard', 'Dinesh', 'Elrich', 'Gilfoyle', 'Gevin']\n",
    "    cakes = np.zeros(5)\n",
    "    both = np.array([people, cakes])\n",
    "    pies_split = np.array_split(both, t_num, axis=1)\n",
    "        \n",
    "    logging.info(\"Running threaded:\")\n",
    "    threaded_start = time.time()\n",
    "    with concurrent.futures.ThreadPoolExecutor(max_workers=t_num) as executor:\n",
    "        logging.info(threading.Thread.getName(threading.current_thread()))\n",
    "        executor.map(thread_function, people, cakes)\n",
    "    logging.info(\"Threaded time: %s\", time.time() - threaded_start)\n"
   ]
  },
  {
   "cell_type": "code",
   "execution_count": 17,
   "metadata": {},
   "outputs": [
    {
     "name": "stdout",
     "output_type": "stream",
     "text": [
      "Running threaded:\n"
     ]
    },
    {
     "ename": "TypeError",
     "evalue": "__init__() got an unexpected keyword argument 'name'",
     "output_type": "error",
     "traceback": [
      "\u001b[0;31m---------------------------------------------------------------------------\u001b[0m",
      "\u001b[0;31mTypeError\u001b[0m                                 Traceback (most recent call last)",
      "\u001b[0;32m<ipython-input-17-2a6b867e9850>\u001b[0m in \u001b[0;36m<module>\u001b[0;34m\u001b[0m\n\u001b[1;32m     22\u001b[0m     \u001b[0mprint\u001b[0m\u001b[0;34m(\u001b[0m\u001b[0;34m\"Running threaded:\"\u001b[0m\u001b[0;34m)\u001b[0m\u001b[0;34m\u001b[0m\u001b[0;34m\u001b[0m\u001b[0m\n\u001b[1;32m     23\u001b[0m     \u001b[0mthreaded_start\u001b[0m \u001b[0;34m=\u001b[0m \u001b[0mtime\u001b[0m\u001b[0;34m.\u001b[0m\u001b[0mtime\u001b[0m\u001b[0;34m(\u001b[0m\u001b[0;34m)\u001b[0m\u001b[0;34m\u001b[0m\u001b[0;34m\u001b[0m\u001b[0m\n\u001b[0;32m---> 24\u001b[0;31m     \u001b[0;32mwith\u001b[0m \u001b[0mconcurrent\u001b[0m\u001b[0;34m.\u001b[0m\u001b[0mfutures\u001b[0m\u001b[0;34m.\u001b[0m\u001b[0mThreadPoolExecutor\u001b[0m\u001b[0;34m(\u001b[0m\u001b[0mname\u001b[0m\u001b[0;34m=\u001b[0m\u001b[0;34m\"thread\"\u001b[0m\u001b[0;34m)\u001b[0m \u001b[0;32mas\u001b[0m \u001b[0mexecutor\u001b[0m\u001b[0;34m:\u001b[0m\u001b[0;34m\u001b[0m\u001b[0;34m\u001b[0m\u001b[0m\n\u001b[0m\u001b[1;32m     25\u001b[0m         \u001b[0mfutures\u001b[0m \u001b[0;34m=\u001b[0m \u001b[0;34m[\u001b[0m\u001b[0;34m]\u001b[0m\u001b[0;34m\u001b[0m\u001b[0;34m\u001b[0m\u001b[0m\n\u001b[1;32m     26\u001b[0m         \u001b[0;32mfor\u001b[0m \u001b[0mi\u001b[0m \u001b[0;32min\u001b[0m \u001b[0mrange\u001b[0m\u001b[0;34m(\u001b[0m\u001b[0mlen\u001b[0m\u001b[0;34m(\u001b[0m\u001b[0mcakes\u001b[0m\u001b[0;34m)\u001b[0m\u001b[0;34m)\u001b[0m\u001b[0;34m:\u001b[0m\u001b[0;34m\u001b[0m\u001b[0;34m\u001b[0m\u001b[0m\n",
      "\u001b[0;31mTypeError\u001b[0m: __init__() got an unexpected keyword argument 'name'"
     ]
    }
   ],
   "source": [
    "import logging\n",
    "import threading\n",
    "import time\n",
    "import concurrent.futures\n",
    "\n",
    "## just give it a list I guess?\n",
    "\n",
    "def thread_function(name, cake):\n",
    "    logging.info(\"Thread %s: starting\", name)\n",
    "    logging.info(\"cake: %s\", cake)\n",
    "    time.sleep(2)\n",
    "    logging.info(\"Thread %s: finishing\", name)\n",
    "    return True\n",
    "\n",
    "if __name__ == \"__main__\":\n",
    "    format = \"%(asctime)s: %(message)s\"\n",
    "    logging.basicConfig(format=format, level=logging.INFO, datefmt=\"%H:%M:%S\")\n",
    "    people = ['Richard', 'Dinesh', 'Elrich', 'Gilfoyle', 'Gevin']\n",
    "    cakes = np.zeros(5)\n",
    "    both = np.array([people, cakes])\n",
    "        \n",
    "    print(\"Running threaded:\")\n",
    "    threaded_start = time.time()\n",
    "    with concurrent.futures.ThreadPoolExecutor(name=\"thread\") as executor:\n",
    "        futures = []\n",
    "        for i in range(len(cakes)):\n",
    "            futures.append(executor.submit(thread_function, people[i], cakes[i]))\n",
    "        for future in concurrent.futures.as_completed(futures):\n",
    "            print(future.result())\n",
    "    print(\"Threaded time:\", time.time() - threaded_start)"
   ]
  },
  {
   "cell_type": "code",
   "execution_count": 8,
   "metadata": {},
   "outputs": [
    {
     "name": "stdout",
     "output_type": "stream",
     "text": [
      "[array([[0., 1., 2., 3.],\n",
      "       [0., 0., 0., 0.]]), array([[4., 5., 6.],\n",
      "       [0., 0., 0.]]), array([[7., 8., 9.],\n",
      "       [0., 0., 0.]])]\n"
     ]
    }
   ],
   "source": [
    "t_num =3\n",
    "pies = np.arange(10)\n",
    "cakes = np.zeros(10)\n",
    "both = np.array([pies, cakes])\n",
    "pies_split = np.array_split(both, t_num, axis=1)\n",
    "print(pies_split)"
   ]
  },
  {
   "cell_type": "code",
   "execution_count": null,
   "metadata": {},
   "outputs": [],
   "source": []
  },
  {
   "cell_type": "code",
   "execution_count": null,
   "metadata": {},
   "outputs": [],
   "source": []
  },
  {
   "cell_type": "code",
   "execution_count": null,
   "metadata": {},
   "outputs": [],
   "source": []
  }
 ],
 "metadata": {
  "kernelspec": {
   "display_name": "Python 3",
   "language": "python",
   "name": "python3"
  },
  "language_info": {
   "codemirror_mode": {
    "name": "ipython",
    "version": 3
   },
   "file_extension": ".py",
   "mimetype": "text/x-python",
   "name": "python",
   "nbconvert_exporter": "python",
   "pygments_lexer": "ipython3",
   "version": "3.6.8"
  }
 },
 "nbformat": 4,
 "nbformat_minor": 4
}
