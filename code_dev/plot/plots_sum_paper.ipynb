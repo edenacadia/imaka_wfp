{
 "cells": [
  {
   "cell_type": "markdown",
   "metadata": {},
   "source": [
    "# Paper Graphs\n",
    "\n",
    "Graphs for paper"
   ]
  },
  {
   "cell_type": "code",
   "execution_count": 1,
   "metadata": {},
   "outputs": [
    {
     "name": "stderr",
     "output_type": "stream",
     "text": [
      "/home/emcewen/.local/lib/python3.6/site-packages/windrose/windrose.py:29: MatplotlibDeprecationWarning: \n",
      "The Appender class was deprecated in Matplotlib 3.1 and will be removed in 3.3.\n",
      "  addendum = docstring.Appender(msg, \"\\n\\n\")\n",
      "/home/emcewen/.local/lib/python3.6/site-packages/windrose/windrose.py:30: MatplotlibDeprecationWarning: \n",
      "The copy_dedent function was deprecated in Matplotlib 3.1 and will be removed in 3.3. Use docstring.copy() and cbook.dedent() instead.\n",
      "  return lambda func: addendum(docstring.copy_dedent(base)(func))\n",
      "/home/emcewen/.local/lib/python3.6/site-packages/windrose/windrose.py:30: MatplotlibDeprecationWarning: \n",
      "The dedent function was deprecated in Matplotlib 3.1 and will be removed in 3.3. Use inspect.getdoc() instead.\n",
      "  return lambda func: addendum(docstring.copy_dedent(base)(func))\n",
      "/home/emcewen/.local/lib/python3.6/site-packages/windrose/windrose.py:30: MatplotlibDeprecationWarning: \n",
      "The dedent function was deprecated in Matplotlib 3.1 and will be removed in 3.3. Use inspect.cleandoc instead.\n",
      "  return lambda func: addendum(docstring.copy_dedent(base)(func))\n"
     ]
    }
   ],
   "source": [
    "# importing code\n",
    "import os\n",
    "import math\n",
    "import importlib\n",
    "import numpy as np\n",
    "import matplotlib.pyplot as plt\n",
    "import matplotlib.cm as cm\n",
    "\n",
    "from scipy import signal\n",
    "from windrose import WindroseAxes\n",
    "\n",
    "import data_pipeline as dp\n",
    "import graph_code as gc\n",
    "# from wp_pipeline import *\n",
    "\n",
    "out_p = \"plots/paper/\""
   ]
  },
  {
   "cell_type": "code",
   "execution_count": 2,
   "metadata": {},
   "outputs": [
    {
     "name": "stderr",
     "output_type": "stream",
     "text": [
      "INFO:root:inf: test\n"
     ]
    }
   ],
   "source": [
    "import logging\n",
    "logger = logging.getLogger()\n",
    "logger.setLevel(logging.INFO)\n",
    "logging.debug(\"test\")\n",
    "logging.info(\"inf: test\")"
   ]
  },
  {
   "cell_type": "markdown",
   "metadata": {},
   "source": [
    "## 3.1 Wind data plots"
   ]
  },
  {
   "cell_type": "code",
   "execution_count": null,
   "metadata": {},
   "outputs": [],
   "source": [
    "# Windplot for CFHT data\n",
    "\n",
    "df_main = pd.read_csv(\"csv/main_cfht.csv\")\n",
    "#df_main[\"DATETIME\"] = pd.to_datetime(df_main[\"DATETIME\"])\n",
    "\n",
    "ws = df_main[\"cft_avgwindspeed\"].tolist()\n",
    "wd = df_main[\"cft_avgwinddir\"].tolist()\n",
    "\n",
    "ax = WindroseAxes.from_ax()\n",
    "ax.contourf(wd, ws, bins=np.arange(0, 70, 5), cmap=cm.viridis)\n",
    "ax.set_legend()\n",
    "ax.set_title(\"CFHT Wind Velocities\")\n",
    "plt.savefig(out_p +'windplot_main_cfht_paper.png')"
   ]
  },
  {
   "cell_type": "code",
   "execution_count": null,
   "metadata": {},
   "outputs": [],
   "source": [
    "# Windplot for 250 data\n",
    "\n",
    "df_main = pd.read_csv(\"csv/main_cfht_250.csv\")\n",
    "df_main[\"DATETIME\"] = pd.to_datetime(df_main[\"DATETIME\"])\n",
    "df_wind = df_main[[\"250_wspd\", \"250_wdir\"]].dropna()\n",
    "ws = df_wind[\"250_wspd\"].tolist()\n",
    "wd = df_wind[\"250_wdir\"].tolist()\n",
    "\n",
    "ax = WindroseAxes.from_ax()\n",
    "ax.contourf(wd, ws, bins=np.arange(0, 70, 5), cmap=cm.viridis)\n",
    "ax.set_legend(loc=\"lower right\")\n",
    "ax.set_title(\"250mb Wind Velocities\")\n",
    "plt.savefig(out_p + 'windplot_main_250_paper.png')"
   ]
  },
  {
   "cell_type": "code",
   "execution_count": null,
   "metadata": {},
   "outputs": [],
   "source": [
    "# generate as a subplot with a colorbar?"
   ]
  },
  {
   "cell_type": "markdown",
   "metadata": {},
   "source": [
    "## 3.2 Acor demo graph\n",
    "Looking to show average autocorrelation in time for both raw, s_sub, s_sub tt_sub"
   ]
  },
  {
   "cell_type": "code",
   "execution_count": 3,
   "metadata": {},
   "outputs": [],
   "source": [
    "# Data file chosen\n",
    "data_path = \"/home/imaka/data/\"\n",
    "date = '20200121/'\n",
    "file = 'ao/aocb0009o.fits'\n",
    "\n",
    "data_f = data_path+date+file\n",
    "filename = os.path.basename(data_f)\n",
    "(name, ext) = os.path.splitext(filename)\n",
    "\n",
    "name = date.replace(\"/\", \"_\"+name)\n",
    "out_d = \"/home/emcewen/out/\" + date"
   ]
  },
  {
   "cell_type": "code",
   "execution_count": 4,
   "metadata": {},
   "outputs": [
    {
     "name": "stderr",
     "output_type": "stream",
     "text": [
      "INFO:root:---> Pulling data from fits file\n",
      "INFO:root:Generating auto corr from ccor tmax = 200\n",
      "INFO:root:---> Pulling data from fits file\n",
      "INFO:root:Generating auto corr from ccor tmax = 200\n",
      "INFO:root:---> Pulling data from fits file\n",
      "INFO:root:Generating auto corr from ccor tmax = 200\n"
     ]
    }
   ],
   "source": [
    "importlib.reload(dp)\n",
    "# checking we can pull from fits using info\n",
    "data_s_tt = dp.DataPipe(name, data_f, out_d, tmax=200, s_sub=True,tt_sub=True)\n",
    "data_s_tt.out_dir = \"plots/\" + date\n",
    "data_s = dp.DataPipe(name, data_f, out_d, tmax=200, s_sub=True)\n",
    "data_s.out_dir = \"plots/\" + date\n",
    "data = dp.DataPipe(name, data_f, out_d, tmax=200)\n",
    "data.out_dir  = \"plots/\" + date"
   ]
  },
  {
   "cell_type": "code",
   "execution_count": 6,
   "metadata": {},
   "outputs": [],
   "source": [
    "med_sub = False\n",
    "avg_sub = True\n",
    "avg_len = 10\n",
    "\n",
    "d_raw_x, d_raw_y = data.data_get_ac(med_sub, avg_sub, avg_len)  \n",
    "d_raw_avg = (np.average(d_raw_x, axis=0) + np.average(d_raw_y, axis=0))/2\n",
    "\n",
    "d_s_x, d_s_y = data_s.data_get_ac(med_sub, avg_sub, avg_len)  \n",
    "d_s_avg = (np.average(d_s_x, axis=0)+ np.average(d_s_y, axis=0))/2\n",
    "\n",
    "d_stt_x, d_stt_y = data_s_tt.data_get_ac(med_sub, avg_sub, avg_len)  \n",
    "d_stt_avg = (np.average(d_stt_x, axis=0)+ np.average(d_stt_y, axis=0))/2\n",
    "\n",
    "#generating unsubtracted dome seeing\n",
    "d_stt_x_r, d_stt_y_r = data_s_tt.data_get_ac(False, False, 200)  \n",
    "d_stt_avg_r = (np.average(d_stt_x_r, axis=0)+ np.average(d_stt_y_r, axis=0))/2\n"
   ]
  },
  {
   "cell_type": "code",
   "execution_count": 34,
   "metadata": {},
   "outputs": [
    {
     "name": "stdout",
     "output_type": "stream",
     "text": [
      "1\n"
     ]
    }
   ],
   "source": [
    "#generating a mask for corr data\n",
    "mask_data = dp.mask_8_8_center\n",
    "mask_cor = signal.correlate2d(mask_data, mask_data)\n",
    "mask = ~np.array(mask_cor, dtype=bool)\n",
    "\n",
    "mask_r = mask[mask==True] = 1\n",
    "print(mask_r)"
   ]
  },
  {
   "cell_type": "code",
   "execution_count": 7,
   "metadata": {},
   "outputs": [
    {
     "data": {
      "image/png": "[encoded data removed]",
      "text/plain": [
       "<Figure size 1008x288 with 14 Axes>"
      ]
     },
     "metadata": {
      "needs_background": "light"
     },
     "output_type": "display_data"
    }
   ],
   "source": [
    "title= date.replace(\"/\", \"\") +\" Average autocorrelation, tip tilt and statics subtracted\"\n",
    "t_list = [0,5,10,15,20,25,30]\n",
    "mat_cube_1 = d_stt_avg_r\n",
    "mat_cube_2 = d_stt_avg\n",
    "label_1, label_2 = \"raw acor\", \"avg sub acor\"\n",
    "\n",
    "gc.graph_2_rows_t_mat(mat_cube_1, mat_cube_2,\n",
    "                           t_list, title, \n",
    "                           label_1, label_2).savefig(out_p + \"acor_graph_paper10.png\")"
   ]
  },
  {
   "cell_type": "markdown",
   "metadata": {},
   "source": [
    "# 3.2 CCOR Graph"
   ]
  },
  {
   "cell_type": "code",
   "execution_count": 12,
   "metadata": {},
   "outputs": [
    {
     "data": {
      "text/plain": [
       "'plots/20200121/plots/ccor_all_png/20200121_aocb0009o_stt_ccor_all_3.png'"
      ]
     },
     "execution_count": 12,
     "metadata": {},
     "output_type": "execute_result"
    }
   ],
   "source": [
    "med_sub = False\n",
    "avg_sub = True\n",
    "avg_len = 10\n",
    "\n",
    "#data_s_tt.ccor_graph_all(t=0, avg_sub=avg_sub, avg_len=avg_len)\n",
    "#data_s_tt.ccor_graph_all(t=10, avg_sub=avg_sub, avg_len=avg_len)\n",
    "data_s_tt.ccor_graph_all(t=20, avg_sub=avg_sub, avg_len=avg_len)"
   ]
  },
  {
   "cell_type": "code",
   "execution_count": 8,
   "metadata": {},
   "outputs": [],
   "source": [
    "# compare agianst a singular ccor\n",
    "d_stt_24_x, d_stt_24_y = data_s_tt.data_get_cc(4,2, med_sub, avg_sub, avg_len)\n",
    "d_stt_24_avg = (d_stt_24_x + d_stt_24_y)/2\n"
   ]
  },
  {
   "cell_type": "code",
   "execution_count": 9,
   "metadata": {},
   "outputs": [
    {
     "data": {
      "image/png": "[encoded data removed]",
      "text/plain": [
       "<Figure size 1008x288 with 14 Axes>"
      ]
     },
     "metadata": {
      "needs_background": "light"
     },
     "output_type": "display_data"
    }
   ],
   "source": [
    "title= date.replace(\"/\", \"\") +\" Average autocorrelation vs. Cross corr of WFS2 and WFS4, tip tilt and statics subtracted\"\n",
    "t_list = [0,5,10,15,20,25,30]\n",
    "mat_cube_1 = d_stt_avg\n",
    "mat_cube_2 = d_stt_24_avg\n",
    "label_1, label_2 = \"acor\", \"ccor\"\n",
    "\n",
    "gc.graph_2_rows_t_mat(mat_cube_1, mat_cube_2,\n",
    "                           t_list, title, \n",
    "                           label_1, label_2).savefig(out_p + \"ccor_graph_paper24.png\")"
   ]
  },
  {
   "cell_type": "markdown",
   "metadata": {},
   "source": [
    "## Peak Morphology"
   ]
  },
  {
   "cell_type": "code",
   "execution_count": null,
   "metadata": {},
   "outputs": [],
   "source": [
    "max_v = np.max(d_s_tt_sub_avg, axis = (1,2))\n",
    "min_v = np.min(d_s_tt_sub_avg, axis = (1,2))\n",
    "t_index = np.arange(len(max_v))\n",
    "#max_index = np.argmax(avg_slopes, axis = (1,2))\n",
    "\n",
    "plt.title(date + 'Max and min intensity over time')\n",
    "plt.plot(t_index, max_v, label=\"max values\")\n",
    "plt.plot(t_index, min_v, label=\"min values\")\n",
    "plt.xticks = np.arange(max_v.shape[0])\n",
    "plt.xlabel('time')\n",
    "plt.ylabel('intensity')\n",
    "plt.legend()\n",
    "plt.show()"
   ]
  }
 ],
 "metadata": {
  "kernelspec": {
   "display_name": "Python 3",
   "language": "python",
   "name": "python3"
  },
  "language_info": {
   "codemirror_mode": {
    "name": "ipython",
    "version": 3
   },
   "file_extension": ".py",
   "mimetype": "text/x-python",
   "name": "python",
   "nbconvert_exporter": "python",
   "pygments_lexer": "ipython3",
   "version": "3.6.8"
  }
 },
 "nbformat": 4,
 "nbformat_minor": 4
}
