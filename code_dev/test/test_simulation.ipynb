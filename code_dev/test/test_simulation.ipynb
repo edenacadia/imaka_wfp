{
 "cells": [
  {
   "cell_type": "markdown",
   "metadata": {},
   "source": [
    "### Testing Simulations"
   ]
  },
  {
   "cell_type": "code",
   "execution_count": 121,
   "metadata": {},
   "outputs": [],
   "source": [
    "# imports\n",
    "import numpy as np\n",
    "import pandas as pd\n",
    "import numpy.ma as ma\n",
    "import importlib\n",
    "import matplotlib\n",
    "from astropy.stats import sigma_clipped_stats\n",
    "from importlib import reload\n",
    "import time\n",
    "from astropy.io import fits\n",
    "import re\n",
    "\n",
    "# ignore warnings\n",
    "import warnings\n",
    "warnings.filterwarnings(\"ignore\")\n",
    "\n",
    "#personal\n",
    "from pipeline.est_pipeline import *\n",
    "from pipeline.code.file_reader import *\n",
    "from pipeline.code.corr_plots import *\n",
    "from pipeline.code.cluster import *\n",
    "\n",
    "import pipeline.code.Estimator as es\n",
    "import pipeline.code.Estimator_R as er\n",
    "import pipeline.code.data_table as d_t\n",
    "import pipeline.code.graph_code as gc\n",
    "import pipeline.code.Correlator as Cor\n",
    "\n",
    "import t_const_code as tc"
   ]
  },
  {
   "cell_type": "code",
   "execution_count": 82,
   "metadata": {},
   "outputs": [],
   "source": [
    "import test_sim as ts"
   ]
  },
  {
   "cell_type": "markdown",
   "metadata": {},
   "source": [
    "## Part 1: Correlations of simulated data"
   ]
  },
  {
   "cell_type": "code",
   "execution_count": 83,
   "metadata": {},
   "outputs": [],
   "source": [
    "## First find files\n",
    "#ehu:/data/emcewen/sim/2021110[1,2]/simul.YYYYMMDD.aocb.fits files.\n",
    "\n",
    "# Out directory specific for this test\n",
    "out_dir = \"/home/emcewen/test_simul/\"\n",
    "data_path = \"/home/imaka/data/\"\n",
    "target_path = \"home/imaka_wfp/inputs/targets/\"\n",
    "\n",
    "file1 = '/data/emcewen/sim/20211101/simul.20211101_203350.aocb.fits'\n",
    "name1 = 'simul.20211101_203350'\n",
    "file2 = '/data/emcewen/sim/20211102/simul.20211102_105221.aocb.fits'\n",
    "name2 = 'simul.20211102_105221'"
   ]
  },
  {
   "cell_type": "code",
   "execution_count": null,
   "metadata": {},
   "outputs": [],
   "source": [
    "### ADDING PLOTTING TO test_simul.py"
   ]
  },
  {
   "cell_type": "code",
   "execution_count": 11,
   "metadata": {},
   "outputs": [
    {
     "data": {
      "text/plain": [
       "[<astropy.io.fits.hdu.image.PrimaryHDU object at 0x7fb33533e940>, <astropy.io.fits.hdu.image.ImageHDU object at 0x7fb3352f85f8>, <astropy.io.fits.hdu.image.ImageHDU object at 0x7fb3352f8fd0>, <astropy.io.fits.hdu.image.ImageHDU object at 0x7fb3352fe898>, <astropy.io.fits.hdu.image.ImageHDU object at 0x7fb3352fefd0>, <astropy.io.fits.hdu.image.ImageHDU object at 0x7fb335303898>, <astropy.io.fits.hdu.image.ImageHDU object at 0x7fb335307198>, <astropy.io.fits.hdu.image.ImageHDU object at 0x7fb335307828>, <astropy.io.fits.hdu.image.ImageHDU object at 0x7fb335307ef0>]"
      ]
     },
     "execution_count": 11,
     "metadata": {},
     "output_type": "execute_result"
    }
   ],
   "source": [
    "fits.open(file1)"
   ]
  },
  {
   "cell_type": "code",
   "execution_count": 19,
   "metadata": {},
   "outputs": [
    {
     "name": "stdout",
     "output_type": "stream",
     "text": [
      "Starting parallel ACor\n",
      "... Finished in  605.284684419632\n",
      "Starting parallel XCor\n",
      "... Finished in  1178.195510149002\n",
      "Writing Fits File\n",
      "... Finished in  0.4460132122039795\n"
     ]
    }
   ],
   "source": [
    "cor1 = ts.calc_par(name1, file1, 1000)"
   ]
  },
  {
   "cell_type": "code",
   "execution_count": 17,
   "metadata": {},
   "outputs": [
    {
     "name": "stdout",
     "output_type": "stream",
     "text": [
      "Starting parallel ACor\n",
      "... Finished in  98.81811690330505\n",
      "Starting parallel XCor\n",
      "... Finished in  227.36476039886475\n",
      "Writing Fits File\n",
      "... Finished in  0.2593865394592285\n"
     ]
    }
   ],
   "source": [
    "cor2 = ts.calc_par(name2, file2, 200)"
   ]
  },
  {
   "cell_type": "markdown",
   "metadata": {},
   "source": [
    "### 1.1 Displaying Correlations\n",
    "\n",
    "Q: why are they flipping??"
   ]
  },
  {
   "cell_type": "code",
   "execution_count": 122,
   "metadata": {},
   "outputs": [],
   "source": [
    "reload(Cor)\n",
    "home_dir = \"/home/emcewen/\"\n",
    "\n",
    "file_s2_1 = home_dir + \"test_simul/fits/simul.20211118_143311_tmax1000_tts.fits\"\n",
    "file_s2_2 = home_dir + \"test_simul/fits/simul.20211118_144811_tmax1000_tts.fits\"\n",
    "# raw\n",
    "file_s2_1r = home_dir + \"test_simul/fits/simul.20211118_143311_tmax1000_raw.fits\"\n",
    "file_s2_2r = home_dir + \"test_simul/fits/simul.20211118_144811_tmax1000_raw.fits\"\n",
    "# limit range\n",
    "file_s2_1r_1024 = home_dir + \"test_simul/fits/simul.20211118_143311_tmax500_raw_f0_1024.fits\"\n",
    "file_s2_2r_1024 = home_dir + \"test_simul/fits/simul.20211118_144811_tmax500_raw_f0_1024.fits\""
   ]
  },
  {
   "cell_type": "code",
   "execution_count": 123,
   "metadata": {},
   "outputs": [],
   "source": [
    "p_file = file_s2_1\n",
    "corr_data = Cor.Correlator(\"\", \"\", \"\", f_file=p_file)"
   ]
  },
  {
   "cell_type": "code",
   "execution_count": 94,
   "metadata": {},
   "outputs": [
    {
     "data": {
      "text/plain": [
       "'/home/emcewen/test_simul/plots/ccor_all_gif/simul.20211118_144811_raw_ccor_all_1.gif'"
      ]
     },
     "execution_count": 94,
     "metadata": {},
     "output_type": "execute_result"
    }
   ],
   "source": [
    "## PLOTTING: Default Display covariance movie\n",
    "corr_data.cor_animate_all(40, avg_sub=False, avg_len=1000) "
   ]
  },
  {
   "cell_type": "code",
   "execution_count": 129,
   "metadata": {},
   "outputs": [],
   "source": [
    "## PLOTING: manual\n",
    "wfs = 0\n",
    "\n",
    "data_cx, data_cy = corr_data.data_get_cc_f_all( med_sub=False, avg_sub=False, avg_len=1000)\n",
    "frames = (data_cx+data_cy)[0,0] / 2\n",
    "\n",
    "#data_cx, data_cy = corr_data.ccor_x[wfs][wfs], corr_data.ccor_y[wfs][wfs]\n",
    "#frames = (data_cx+data_cy)/ 2\n",
    "\n",
    "#gif_ccor_mat((data_cx+data_cy), dt_max, title, out_file)"
   ]
  },
  {
   "cell_type": "code",
   "execution_count": null,
   "metadata": {},
   "outputs": [],
   "source": [
    "import numpy as np\n",
    "import matplotlib.pyplot as plt\n",
    "import matplotlib.animation as animation\n",
    "from mpl_toolkits.axes_grid1 import make_axes_locatable\n",
    "\n",
    "# Change me\n",
    "#######\n",
    "gif_len = 50\n",
    "#######\n",
    "fig = plt.figure()\n",
    "ax = fig.add_subplot(111)\n",
    "\n",
    "# I like to position my colorbars this way, but you don't have to\n",
    "div = make_axes_locatable(ax)\n",
    "cax1 = div.append_axes('right', '5%', '5%')\n",
    "\n",
    "cv0 = frames[0]\n",
    "im = ax.imshow(cv0, origin='lower') # Here make an AxesImage rather than contour\n",
    "cb1 = fig.colorbar(im, cax=cax1)\n",
    "tx = ax.set_title('Frame 0')\n",
    "\n",
    "vstd = np.median(np.std(frames[:gif_len], axis=(1,2)))\n",
    "vmax = +vstd*3\n",
    "vmin = -vstd*3\n",
    "\n",
    "def animate(i):\n",
    "    arr = frames[i]\n",
    "    #vmax     = np.max(arr)\n",
    "    #vmin     = np.min(arr)\n",
    "    im.set_data(arr)\n",
    "    im.set_clim(vmin, vmax)\n",
    "    tx.set_text(f'{corr_data.name} Frame {i}')\n",
    "    # In this version you don't have to do anything to the colorbar,\n",
    "    # it updates itself when the mappable it watches (im) changes\n",
    "\n",
    "ani = animation.FuncAnimation(fig, animate, frames=gif_len)\n",
    "\n",
    "plt.show()\n",
    "out_file = f\"{corr_data.name}_anicorr.gif\"\n",
    "ani.save(out_file, writer = 'imagemagick')"
   ]
  },
  {
   "cell_type": "code",
   "execution_count": 79,
   "metadata": {},
   "outputs": [],
   "source": [
    "# PLOT: background and correlation side by side\n",
    "\n",
    "def gif_two_cb(data1, data2, title, out_file):\n",
    "    fig, axes = plt.subplots(nrows=1, ncols=2, figsize=(6, 3))\n",
    "    plt.setp(axes, xticks=[], yticks=[]) # turn off tick marks\n",
    "\n",
    "    div1 = make_axes_locatable(axes[0])\n",
    "    cax1 = div1.append_axes('right', '5%', '5%')\n",
    "    div2 = make_axes_locatable(axes[-1])\n",
    "    cax2 = div2.append_axes('right', '5%', '5%')\n",
    "\n",
    "    # This is now a list of arrays rather than a list of artists\n",
    "    frames = (data_cx+data_cy)[0,0]\n",
    "    d1_0 = data1[0]\n",
    "    d2_0 = data2[0]\n",
    "\n",
    "    im1 = axes[0].imshow(d1_0, origin='lower') # Here make an AxesImage rather than contour\n",
    "    im2 = axes[1].imshow(d2_0, origin='lower')\n",
    "    cb1 = fig.colorbar(im1, cax=cax1)\n",
    "    cb2 = fig.colorbar(im2, cax=cax2)\n",
    "    tx = fig.suptitle(f'{title} Step 0')\n",
    "\n",
    "    vstd1 = np.median(np.std(data1, axis=(1,2)))\n",
    "    vstd2 = np.median(np.std(data2, axis=(1,2)))\n",
    "    fig.tight_layout()\n",
    "\n",
    "    def animate(i):\n",
    "        im1.set_data(data1[i])\n",
    "        im1.set_clim(-vstd1, +vstd1)\n",
    "        im2.set_data(data2[i])\n",
    "        im2.set_clim(-vstd2, +vstd2)\n",
    "        tx.set_text(f'{title} Step {i}')\n",
    "\n",
    "    ani = animation.FuncAnimation(fig, animate, frames=10)\n",
    "    ani.save(out_file, writer = 'imagemagick')"
   ]
  },
  {
   "cell_type": "code",
   "execution_count": 80,
   "metadata": {},
   "outputs": [
    {
     "data": {
      "image/png": "[encoded data removed]",
      "text/plain": [
       "<Figure size 432x216 with 4 Axes>"
      ]
     },
     "metadata": {
      "needs_background": "light"
     },
     "output_type": "display_data"
    }
   ],
   "source": [
    "gif_two_cb((data_cx+data_cy)[0,0], (data_cx+data_cy)[0,0], corr_data.name, \"test_three.gif\")"
   ]
  },
  {
   "cell_type": "code",
   "execution_count": null,
   "metadata": {},
   "outputs": [],
   "source": [
    "def Bcakground_map(avg_wf):\n",
    "    #detect_lvl = np.zeros_like(avg_wfs)\n",
    "    t_mean = np.zeros_like(avg_wf)\n",
    "    t_stdev = np.zeros_like(avg_wf)\n",
    "\n",
    "    for t in range(avg_wf.shape[0]):\n",
    "        # 1.1.  For each pixel in the cov map assign a radius\n",
    "        t_slice = avg_wf[t]\n",
    "        sigma = 3\n",
    "        # 1.2. find the mean (m) and stddev (sd) of the pixels \n",
    "        # in a radial annuli one pixel wide (r from 1 to 7 +/- 0.5.  \n",
    "        # I do a sigma clipping on this with a clip=3 si\n",
    "        for r in np.arange(8):\n",
    "            rad_vals = np.multiply(t_slice, rad_map_boolean[r])\n",
    "            mean, median, std = sigma_clipped_stats(rad_vals, sigma=sigma, mask=rad_map_inv[r])\n",
    "            # TRY REDOING MASKING => try to flatten?\n",
    "            #print(t, r, mean, std)\n",
    "            t_mean[t] = t_mean[t] + mean*rad_map_boolean[r]\n",
    "            t_stdev[t] = t_stdev[t] + std*rad_map_boolean[r]\n",
    "    # 1.3. For each pixel I assign a \"detection level in sigma over the mean\"\n",
    "    # = (im[x,y] - m)/sd.   \n",
    "    # This results in a detection map for each cov map time slice. \n",
    "    detect_map = np.divide(np.subtract(avg_wf, t_mean), t_stdev)\n",
    "    return detect_map"
   ]
  },
  {
   "cell_type": "code",
   "execution_count": null,
   "metadata": {
    "jupyter": {
     "source_hidden": true
    }
   },
   "outputs": [],
   "source": [
    "# Triangular matricies\n",
    "\n",
    "import numpy as np\n",
    "import matplotlib.pyplot as plt\n",
    "import matplotlib.animation as animation\n",
    "from mpl_toolkits.axes_grid1 import make_axes_locatable\n",
    "\n",
    "fig = plt.figure()\n",
    "ax = fig.add_subplot(111)\n",
    "\n",
    "# I like to position my colorbars this way, but you don't have to\n",
    "div = make_axes_locatable(ax)\n",
    "cax1 = div.append_axes('right', '5%', '5%')\n",
    "#cax2 = div.append_axes('left', '5%', '5%')\n",
    "\n",
    "# This is now a list of arrays rather than a list of artists\n",
    "frames = (data_cx+data_cy)[0,0]\n",
    "\n",
    "cv0 = frames[0]\n",
    "im = ax.imshow(cv0, origin='lower') # Here make an AxesImage rather than contour\n",
    "cb1 = fig.colorbar(im, cax=cax1)\n",
    "#cb2 = fig.colorbar(im, cax=cax2, 'AxisLocation','out')\n",
    "tx = ax.set_title('Frame 0')\n",
    "\n",
    "vstd = vstd = np.median(np.std(frames, axis=(1,2)))\n",
    "vmax = +vstd\n",
    "vmin = -vstd\n",
    "\n",
    "def animate(i):\n",
    "    arr = frames[i]\n",
    "    #vmax     = np.max(arr)\n",
    "    #vmin     = np.min(arr)\n",
    "    im.set_data(arr)\n",
    "    im.set_clim(vmin, vmax)\n",
    "    tx.set_text(f'{corr_data.name} Frame {i}')\n",
    "    # In this version you don't have to do anything to the colorbar,\n",
    "    # it updates itself when the mappable it watches (im) changes\n",
    "\n",
    "ani = animation.FuncAnimation(fig, animate, frames=50)\n",
    "\n",
    "plt.show()\n",
    "out_file = \"test.gif\"\n",
    "ani.save(out_file, writer = 'imagemagick')\n",
    "\n",
    "\n",
    "def gif_ccor_mat(mat_arr, tmax, title=None, out_file='out.gif'):\n",
    "    min_val = np.min(mat_arr, axis=(0, 1, 3, 4))\n",
    "    max_val = np.max(mat_arr, axis=(0, 1, 3, 4))\n",
    "    n_len, n_width = mat_arr.shape[0], mat_arr.shape[1] \n",
    "    fig, axes = plt.subplots(nrows=n_len, ncols=n_width, figsize=(2*n_len,2*n_width))\n",
    "    fig.subplots_adjust(wspace=0.3)\n",
    "    fig.suptitle(str(title))\n",
    "    # setup\n",
    "    for i in range(n_len):\n",
    "            for j in range(n_width):\n",
    "                if i>=j:\n",
    "                    ax = axes[i][j]\n",
    "                    ax.set_xlabel(\"WFS\" + str(i) + \" WFS\"+ str(j))  \n",
    "                    ax.set_xticklabels([])\n",
    "                    ax.set_yticklabels([])\n",
    "                    ax.tick_params(axis='x', which='both', bottom=False, top=False, labelbottom=False)\n",
    "                    ax.tick_params(axis='y', which='both', right=False, left=False, labelleft=False)\n",
    "                else:\n",
    "                    axes[i, j].remove()\n",
    "                    \n",
    "    def animate(i):\n",
    "        arr = frames[i]\n",
    "        for i in range(n_len):\n",
    "            for j in range(n_width):\n",
    "                if i>=j:\n",
    "                    ax = axes[i][j]\n",
    "                    im = ax.matshow(mat_arr[i][j][t], vmin = min_val[t], vmax=max_val[t])\n",
    "        \n",
    "        #vmax     = np.max(arr)\n",
    "        #vmin     = np.min(arr)\n",
    "        im.set_data(arr)\n",
    "        im.set_clim(vmin, vmax)\n",
    "        tx.set_text(f'{corr_data.name} Frame {i}')\n",
    "        # In this version you don't have to do anything to the colorbar,\n",
    "        # it updates itself when the mappable it watches (im) changes\n",
    "    \n",
    "    \n",
    "    #animate\n",
    "    camera = Camera(fig)\n",
    "    for t in range(tmax):\n",
    "        for i in range(n_len):\n",
    "            for j in range(n_width):\n",
    "                if i>=j:\n",
    "                    ax = axes[i][j]\n",
    "                    im = ax.matshow(mat_arr[i][j][t], vmin = min_val[t], vmax=max_val[t])\n",
    "                    #im = ax.matshow(mat_arr[i][j][t])\n",
    "                    ax.tick_params(axis='x', which='both', bottom=False, top=False, labelbottom=False)\n",
    "                    ax.tick_params(axis='y', which='both', right=False, left=False, labelleft=False)\n",
    "                if i==0 and j==0:\n",
    "                    ax.text(0, 1.1,\" t = \" + str(t), transform=ax.transAxes)\n",
    "        #fig.tight_layout()\n",
    "        camera.snap()\n",
    "    animation = camera.animate()  \n",
    "    animation.save(out_file, writer = 'imagemagick')"
   ]
  },
  {
   "cell_type": "code",
   "execution_count": null,
   "metadata": {
    "jupyter": {
     "source_hidden": true
    }
   },
   "outputs": [],
   "source": [
    "    def cor_animate_all(self, dt_max = 30, med_sub=False, avg_sub=False, avg_len=10):\n",
    "        # check to see if data is valid\n",
    "        if self.data_valid and not self.ccor:\n",
    "            logging.warning(\"Cross corr not available, generating\")\n",
    "            self.ccor_gen()\n",
    "        elif not self.data_valid:\n",
    "            logging.error(\"Data not available\") \n",
    "            return None\n",
    "        # Retrieve data for graphing\n",
    "        if dt_max > self.tmax: dt_max = self.tmax\n",
    "        #data_cx, data_cy = self.data_get_cc_all(med_sub, avg_sub, avg_len)\n",
    "        data_cx, data_cy = self.data_get_cc_f_all(med_sub, avg_sub, avg_len)\n",
    "        # Plot title and file\n",
    "        title = self.plot_title_gen(\" Cross Corr, all WFS\", med_sub, avg_sub, avg_len)\n",
    "        out_file = self.plot_file_gen(\"ccor_all_gif\", \"_ccor_all\", \"gif\", med_sub, avg_sub, avg_len) \n",
    "        # animate all correlations \n",
    "        try:\n",
    "            logging.debug(\"Graphing: cor_animate_all\")\n",
    "            gif_ccor_mat((data_cx+data_cy), dt_max, title, out_file)\n",
    "            plt.close(\"all\")\n",
    "            return out_file\n",
    "        except Exception as e:\n",
    "            logging.error(\"Error in gif_ccor_mat: %s\"% e)\n",
    "            return False"
   ]
  },
  {
   "cell_type": "markdown",
   "metadata": {},
   "source": [
    "### 1.2 Displaying Decays"
   ]
  },
  {
   "cell_type": "code",
   "execution_count": 24,
   "metadata": {},
   "outputs": [
    {
     "data": {
      "image/png": "[encoded data removed]",
      "text/plain": [
       "<Figure size 720x576 with 2 Axes>"
      ]
     },
     "metadata": {
      "needs_background": "light"
     },
     "output_type": "display_data"
    }
   ],
   "source": [
    "## decay curve\n",
    "p_file = \"/home/emcewen/test_simul/fits/simul.20211101_203350_tmax200_tts.fits\"\n",
    "p_file = \"/home/emcewen/test_simul/fits/simul.20211101_203350_tmax1000_tts.fits\"\n",
    "\n",
    "tmax_p = 500\n",
    "tc.decay_plot(p_file, tmax_p, c_min = 50, c_max = 190)"
   ]
  },
  {
   "cell_type": "code",
   "execution_count": null,
   "metadata": {},
   "outputs": [],
   "source": [
    "p_file = \"/home/emcewen/test_simul/fits/simul.20211101_203350_tmax200_tts.fits\"\n",
    "decay_plot(p_file, tmax_p, c_min = 50, c_max = 190)"
   ]
  },
  {
   "cell_type": "code",
   "execution_count": null,
   "metadata": {},
   "outputs": [],
   "source": [
    "# fit to the short term decays"
   ]
  },
  {
   "cell_type": "markdown",
   "metadata": {},
   "source": [
    "### 1.3 Displaying Estimations"
   ]
  },
  {
   "cell_type": "code",
   "execution_count": null,
   "metadata": {},
   "outputs": [],
   "source": [
    "data = Cor.Correlator(\"\", \"\", \"\", f_file = p_file)"
   ]
  },
  {
   "cell_type": "code",
   "execution_count": null,
   "metadata": {},
   "outputs": [],
   "source": [
    "er.est_file(p_file, plot = True)"
   ]
  },
  {
   "cell_type": "code",
   "execution_count": null,
   "metadata": {},
   "outputs": [],
   "source": [
    "p_file = \"/home/emcewen/test_simul/fits/simul.20211101_203350_tmax1000_tts.fits\"\n",
    "er.est_file(p_file, plot = True)"
   ]
  },
  {
   "cell_type": "markdown",
   "metadata": {},
   "source": [
    "## Part 2: Adding to another clean file"
   ]
  },
  {
   "cell_type": "code",
   "execution_count": null,
   "metadata": {},
   "outputs": [],
   "source": [
    "est_file(p_file)"
   ]
  },
  {
   "cell_type": "code",
   "execution_count": null,
   "metadata": {},
   "outputs": [],
   "source": []
  },
  {
   "cell_type": "code",
   "execution_count": null,
   "metadata": {},
   "outputs": [],
   "source": []
  },
  {
   "cell_type": "code",
   "execution_count": null,
   "metadata": {},
   "outputs": [],
   "source": []
  },
  {
   "cell_type": "markdown",
   "metadata": {},
   "source": [
    "## Part 3: Estimating wind speed"
   ]
  },
  {
   "cell_type": "code",
   "execution_count": null,
   "metadata": {},
   "outputs": [],
   "source": []
  },
  {
   "cell_type": "code",
   "execution_count": null,
   "metadata": {},
   "outputs": [],
   "source": []
  },
  {
   "cell_type": "code",
   "execution_count": null,
   "metadata": {},
   "outputs": [],
   "source": []
  },
  {
   "cell_type": "code",
   "execution_count": null,
   "metadata": {},
   "outputs": [],
   "source": []
  }
 ],
 "metadata": {
  "kernelspec": {
   "display_name": "Python 3",
   "language": "python",
   "name": "python3"
  },
  "language_info": {
   "codemirror_mode": {
    "name": "ipython",
    "version": 3
   },
   "file_extension": ".py",
   "mimetype": "text/x-python",
   "name": "python",
   "nbconvert_exporter": "python",
   "pygments_lexer": "ipython3",
   "version": "3.6.8"
  }
 },
 "nbformat": 4,
 "nbformat_minor": 4
}
