{
 "cells": [
  {
   "cell_type": "markdown",
   "metadata": {},
   "source": [
    "# RUN 15 WORST SEEING EVER"
   ]
  },
  {
   "cell_type": "code",
   "execution_count": 1,
   "metadata": {},
   "outputs": [],
   "source": [
    "## imports\n",
    "import os\n",
    "import numpy as np\n",
    "import pandas as pd\n",
    "import numpy.ma as ma\n",
    "import time\n",
    "import scipy \n",
    "import importlib\n",
    "import matplotlib\n",
    "from astropy.stats import sigma_clipped_stats\n",
    "from importlib import reload\n",
    "from astropy.io import fits\n",
    "import matplotlib.pyplot as plt\n",
    "import matplotlib.animation as animation\n",
    "from mpl_toolkits.axes_grid1 import make_axes_locatable\n",
    "\n",
    "import pipeline.code.Correlator as Cor"
   ]
  },
  {
   "cell_type": "code",
   "execution_count": 9,
   "metadata": {},
   "outputs": [],
   "source": [
    "def data_gen_all(name, data_f, out_d, t_file=None, tmax=200, s_sub=False, tt_sub = False):\n",
    "    \"\"\" \n",
    "    Generate correlation fits files, no graphs generated \n",
    "        input: datafile name, aocb file path, out directory, target file, correlation parameters\n",
    "        generates: one correlation fits\n",
    "        output: none\n",
    "    \"\"\"\n",
    "    print(\"======== %s ========\" % name)\n",
    "    # create an object\n",
    "    curr_data = Cor.Correlator(name, data_f, out_d, tmax=tmax, s_sub=s_sub, tt_sub= tt_sub)\n",
    "    if t_file and not curr_data.target_file :\n",
    "        curr_data.set_target(t_file)\n",
    "    try:\n",
    "        # generate acor\n",
    "        print(\"====> Starting acor\")\n",
    "        t0 = time.time()\n",
    "        curr_data.acor_gen_par()\n",
    "        t1 = time.time()\n",
    "        print(\"== finished in %s s\"% str(t1-t0))\n",
    "        # generate ccor\n",
    "        print(\"====> Starting ccor\")\n",
    "        t2 = time.time()\n",
    "        curr_data.ccor_gen_par()\n",
    "        t3 = time.time()\n",
    "        print(\"== finished in %s s\"% str(t3-t2))\n",
    "        # create fits\n",
    "        print(\"====> writing fits\")\n",
    "        out = curr_data.fits_write()\n",
    "        print(\"== %s\"% out)\n",
    "        print(\"===> complete\")\n",
    "    except Exception as e:\n",
    "        print(\"====> Data Gen error: %s\", e)"
   ]
  },
  {
   "cell_type": "code",
   "execution_count": 10,
   "metadata": {},
   "outputs": [],
   "source": [
    "out_dir = \"test/messy/\"\n",
    "messy_file = \"/data/imaka/20220121/ao/aocb0006n5wfs_c.fits\"\n",
    "name = \"aocb0006n5wfs_c\""
   ]
  },
  {
   "cell_type": "code",
   "execution_count": 11,
   "metadata": {},
   "outputs": [
    {
     "name": "stdout",
     "output_type": "stream",
     "text": [
      "======== aocb0006n5wfs_c ========\n",
      "====> Starting acor\n",
      "== finished in 174.18021702766418 s\n",
      "====> Starting ccor\n",
      "== finished in 547.6262402534485 s\n",
      "====> writing fits\n",
      "== test/messy/fits/aocb0006n5wfs_c_tmax200_s.fits\n",
      "===> complete\n"
     ]
    }
   ],
   "source": [
    "data_gen_all(name, messy_file, out_dir, s_sub=True, tt_sub=False)"
   ]
  },
  {
   "cell_type": "code",
   "execution_count": 4,
   "metadata": {},
   "outputs": [],
   "source": [
    "## \n",
    "p_file = \"test/messy/fits/aocb0016n5wfs_c_tmax200_s.fits\"\n",
    "curr_data = Cor.Correlator(\"\", \"\", \"\", f_file=p_file)"
   ]
  },
  {
   "cell_type": "code",
   "execution_count": 6,
   "metadata": {},
   "outputs": [
    {
     "data": {
      "text/plain": [
       "'test/messy/plots/ccor_all_gif/aocb0016n5wfs_c_s_ccor_all_1.gif'"
      ]
     },
     "execution_count": 6,
     "metadata": {},
     "output_type": "execute_result"
    }
   ],
   "source": [
    "curr_data.cor_animate_all(60, avg_sub=True, avg_len=200) "
   ]
  },
  {
   "cell_type": "code",
   "execution_count": 12,
   "metadata": {},
   "outputs": [],
   "source": [
    "p2_file = 'test/messy/fits/aocb0006n5wfs_c_tmax200_s.fits'\n",
    "curr2_data = Cor.Correlator(\"\", \"\", \"\", f_file=p2_file)"
   ]
  },
  {
   "cell_type": "code",
   "execution_count": 13,
   "metadata": {},
   "outputs": [
    {
     "data": {
      "text/plain": [
       "'test/messy/plots/ccor_all_gif/aocb0006n5wfs_c_s_ccor_all_0.gif'"
      ]
     },
     "execution_count": 13,
     "metadata": {},
     "output_type": "execute_result"
    }
   ],
   "source": [
    "curr2_data.cor_animate_all(60, avg_sub=True, avg_len=200) "
   ]
  },
  {
   "cell_type": "code",
   "execution_count": null,
   "metadata": {},
   "outputs": [],
   "source": []
  }
 ],
 "metadata": {
  "kernelspec": {
   "display_name": "Python 3",
   "language": "python",
   "name": "python3"
  },
  "language_info": {
   "codemirror_mode": {
    "name": "ipython",
    "version": 3
   },
   "file_extension": ".py",
   "mimetype": "text/x-python",
   "name": "python",
   "nbconvert_exporter": "python",
   "pygments_lexer": "ipython3",
   "version": "3.6.8"
  }
 },
 "nbformat": 4,
 "nbformat_minor": 4
}
