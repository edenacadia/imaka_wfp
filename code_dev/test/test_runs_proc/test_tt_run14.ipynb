{
 "cells": [
  {
   "cell_type": "markdown",
   "metadata": {},
   "source": [
    "# Tip-Tilt data\n",
    "\n",
    "Checking in on what the data for our tt files look like"
   ]
  },
  {
   "cell_type": "code",
   "execution_count": 1,
   "metadata": {},
   "outputs": [],
   "source": [
    "# imports\n",
    "import numpy as np\n",
    "import pandas as pd\n",
    "import numpy.ma as ma\n",
    "import importlib\n",
    "import matplotlib\n",
    "from astropy.stats import sigma_clipped_stats\n",
    "from importlib import reload\n",
    "import time\n",
    "from astropy.io import fits\n",
    "from importlib import reload\n",
    "\n",
    "# ignore warnings\n",
    "import warnings\n",
    "warnings.filterwarnings(\"ignore\")\n",
    "\n",
    "#personal\n",
    "from pipeline.est_pipeline import *\n",
    "from pipeline.code.file_reader import *\n",
    "from pipeline.code.corr_plots import *\n",
    "from pipeline.code.cluster import *\n",
    "\n",
    "import pipeline.code.Estimator as es\n",
    "import pipeline.code.Estimator_R as er\n",
    "import pipeline.code.graph_code as gc\n",
    "import pipeline.code.Correlator as Cor\n",
    "\n",
    "## Fitting functions:\n",
    "import t_const_code as tc"
   ]
  },
  {
   "cell_type": "code",
   "execution_count": 16,
   "metadata": {},
   "outputs": [],
   "source": [
    "file_path = '/data/imaka/20210830/ao/'\n",
    "out_dir = \"/home/emcewen/out/\""
   ]
  },
  {
   "cell_type": "markdown",
   "metadata": {},
   "source": [
    "## Run through correlator v quickly"
   ]
  },
  {
   "cell_type": "code",
   "execution_count": 17,
   "metadata": {},
   "outputs": [],
   "source": [
    "def calc_par(name, file_path, tmax, out_dir):\n",
    "    ## a parallel correlation\n",
    "    curr_data = Cor.Correlator(name, file_path+name+\".fits\", out_dir, tmax=tmax, s_sub=True, tt_sub=True)\n",
    "\n",
    "    t0 = time.time()\n",
    "    print(\"Starting parallel ACor\")\n",
    "    curr_data.acor_gen_par()\n",
    "    t1 = time.time()\n",
    "    print(\"... Finished in \", str(t1-t0))\n",
    "\n",
    "    print(\"Starting XCor\")\n",
    "    curr_data.ccor_gen_par()\n",
    "    t2 = time.time()\n",
    "    print(\"... Finished in \", str(t2-t1))\n",
    "\n",
    "    print(\"Writing Fits File\")\n",
    "    curr_data.fits_write()\n",
    "    t3 = time.time()\n",
    "    print(\"... Finished in \", str(t3-t2))"
   ]
  },
  {
   "cell_type": "code",
   "execution_count": null,
   "metadata": {},
   "outputs": [
    {
     "name": "stderr",
     "output_type": "stream",
     "text": [
      "DEBUG:root:path found: /home/emcewen/out/\n",
      "DEBUG:root:datacheckfile: /data/imaka/20210830/ao/aocb0046tt_c.fits\n",
      "DEBUG:root:datacheckfile: /data/imaka/20210830/ao/aocb0046tt_c.fits\n",
      "INFO:root:Generating auto corr tmax = 1000\n"
     ]
    },
    {
     "name": "stdout",
     "output_type": "stream",
     "text": [
      "Starting parallel ACor\n"
     ]
    },
    {
     "name": "stderr",
     "output_type": "stream",
     "text": [
      "INFO:root:Generating cross corr tmax = 1000\n"
     ]
    },
    {
     "name": "stdout",
     "output_type": "stream",
     "text": [
      "... Finished in  66.65586280822754\n",
      "Starting XCor\n"
     ]
    }
   ],
   "source": [
    "# for each bw file, run through standard correlation\n",
    "import logging\n",
    "logger = logging.getLogger()\n",
    "logger.setLevel(logging.DEBUG)\n",
    "tmax = 1000\n",
    "name = \"aocb0046tt_c\"\n",
    "\n",
    "calc_par(name, file_path, tmax, out_dir)"
   ]
  },
  {
   "cell_type": "code",
   "execution_count": 8,
   "metadata": {},
   "outputs": [
    {
     "data": {
      "text/plain": [
       "True"
      ]
     },
     "execution_count": 8,
     "metadata": {},
     "output_type": "execute_result"
    }
   ],
   "source": [
    "os.path.isfile(file_path + name + \".fits\")"
   ]
  },
  {
   "cell_type": "code",
   "execution_count": null,
   "metadata": {},
   "outputs": [],
   "source": []
  }
 ],
 "metadata": {
  "kernelspec": {
   "display_name": "Python 3",
   "language": "python",
   "name": "python3"
  },
  "language_info": {
   "codemirror_mode": {
    "name": "ipython",
    "version": 3
   },
   "file_extension": ".py",
   "mimetype": "text/x-python",
   "name": "python",
   "nbconvert_exporter": "python",
   "pygments_lexer": "ipython3",
   "version": "3.6.8"
  }
 },
 "nbformat": 4,
 "nbformat_minor": 4
}
